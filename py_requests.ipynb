{
 "cells": [
  {
   "cell_type": "code",
   "execution_count": null,
   "id": "520e71e4",
   "metadata": {},
   "outputs": [],
   "source": [
    "import requests"
   ]
  },
  {
   "cell_type": "code",
   "execution_count": null,
   "id": "c7e3b7dc",
   "metadata": {},
   "outputs": [],
   "source": [
    "def parse(fio1, fio2, fio3, bod, card1, card2, process=\"1\"):\n",
    "    url = \"https://xn--80a5ad.xn--80asehdb/calc_kbm_Tinkoff/ajax.php/calc_kbm_Tinkoff/ajax.php\"\n",
    "    data = {\n",
    "        \"fio1\": fio1,\n",
    "        \"fio2\": fio2,\n",
    "        \"fio3\": fio3,\n",
    "        \"bod\": bod,\n",
    "        \"card1\": card1,\n",
    "        \"card2\": card2,\n",
    "        \"process\": process\n",
    "    }\n",
    "\n",
    "    headers = {\n",
    "        \"Content-Type\": \"application/x-www-form-urlencoded; charset=UTF-8\",\n",
    "        \"X-Requested-With\": \"XMLHttpRequest\"\n",
    "    }\n",
    "\n",
    "    # кидаем POST запрос\n",
    "    req = requests.post(url, data, headers=headers)\n",
    "\n",
    "    # достаём регуляркой тег с КБМ и оставляем только цифру\n",
    "    pattern = \"<b>.+</b>\"\n",
    "    kbm = re.findall(pattern, str(req.content))[0]\n",
    "    kbm = kbm.replace(\"<b>\", \"\").replace(\"</b>\", \"\")\n",
    "\n",
    "    return float(kbm)"
   ]
  },
  {
   "cell_type": "code",
   "execution_count": null,
   "id": "24d823a4",
   "metadata": {},
   "outputs": [],
   "source": []
  },
  {
   "cell_type": "code",
   "execution_count": null,
   "id": "559137f7",
   "metadata": {},
   "outputs": [],
   "source": []
  }
 ],
 "metadata": {
  "kernelspec": {
   "display_name": "Python 3 (ipykernel)",
   "language": "python",
   "name": "python3"
  },
  "language_info": {
   "codemirror_mode": {
    "name": "ipython",
    "version": 3
   },
   "file_extension": ".py",
   "mimetype": "text/x-python",
   "name": "python",
   "nbconvert_exporter": "python",
   "pygments_lexer": "ipython3",
   "version": "3.9.13"
  }
 },
 "nbformat": 4,
 "nbformat_minor": 5
}
